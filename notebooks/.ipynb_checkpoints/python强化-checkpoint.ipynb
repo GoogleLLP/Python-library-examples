{
 "cells": [
  {
   "cell_type": "markdown",
   "metadata": {},
   "source": [
    "<h2>常用内置函数</h2>"
   ]
  },
  {
   "cell_type": "code",
   "execution_count": 2,
   "metadata": {
    "ExecuteTime": {
     "end_time": "2020-10-05T01:32:49.360879Z",
     "start_time": "2020-10-05T01:32:49.353883Z"
    }
   },
   "outputs": [
    {
     "data": {
      "text/plain": [
       "['ArithmeticError',\n",
       " 'AssertionError',\n",
       " 'AttributeError',\n",
       " 'BaseException',\n",
       " 'BlockingIOError',\n",
       " 'BrokenPipeError',\n",
       " 'BufferError',\n",
       " 'BytesWarning',\n",
       " 'ChildProcessError',\n",
       " 'ConnectionAbortedError',\n",
       " 'ConnectionError',\n",
       " 'ConnectionRefusedError',\n",
       " 'ConnectionResetError',\n",
       " 'DeprecationWarning',\n",
       " 'EOFError',\n",
       " 'Ellipsis',\n",
       " 'EnvironmentError',\n",
       " 'Exception',\n",
       " 'False',\n",
       " 'FileExistsError',\n",
       " 'FileNotFoundError',\n",
       " 'FloatingPointError',\n",
       " 'FutureWarning',\n",
       " 'GeneratorExit',\n",
       " 'IOError',\n",
       " 'ImportError',\n",
       " 'ImportWarning',\n",
       " 'IndentationError',\n",
       " 'IndexError',\n",
       " 'InterruptedError',\n",
       " 'IsADirectoryError',\n",
       " 'KeyError',\n",
       " 'KeyboardInterrupt',\n",
       " 'LookupError',\n",
       " 'MemoryError',\n",
       " 'ModuleNotFoundError',\n",
       " 'NameError',\n",
       " 'None',\n",
       " 'NotADirectoryError',\n",
       " 'NotImplemented',\n",
       " 'NotImplementedError',\n",
       " 'OSError',\n",
       " 'OverflowError',\n",
       " 'PendingDeprecationWarning',\n",
       " 'PermissionError',\n",
       " 'ProcessLookupError',\n",
       " 'RecursionError',\n",
       " 'ReferenceError',\n",
       " 'ResourceWarning',\n",
       " 'RuntimeError',\n",
       " 'RuntimeWarning',\n",
       " 'StopAsyncIteration',\n",
       " 'StopIteration',\n",
       " 'SyntaxError',\n",
       " 'SyntaxWarning',\n",
       " 'SystemError',\n",
       " 'SystemExit',\n",
       " 'TabError',\n",
       " 'TimeoutError',\n",
       " 'True',\n",
       " 'TypeError',\n",
       " 'UnboundLocalError',\n",
       " 'UnicodeDecodeError',\n",
       " 'UnicodeEncodeError',\n",
       " 'UnicodeError',\n",
       " 'UnicodeTranslateError',\n",
       " 'UnicodeWarning',\n",
       " 'UserWarning',\n",
       " 'ValueError',\n",
       " 'Warning',\n",
       " 'WindowsError',\n",
       " 'ZeroDivisionError',\n",
       " '__IPYTHON__',\n",
       " '__build_class__',\n",
       " '__debug__',\n",
       " '__doc__',\n",
       " '__import__',\n",
       " '__loader__',\n",
       " '__name__',\n",
       " '__package__',\n",
       " '__spec__',\n",
       " 'abs',\n",
       " 'all',\n",
       " 'any',\n",
       " 'ascii',\n",
       " 'bin',\n",
       " 'bool',\n",
       " 'breakpoint',\n",
       " 'bytearray',\n",
       " 'bytes',\n",
       " 'callable',\n",
       " 'chr',\n",
       " 'classmethod',\n",
       " 'compile',\n",
       " 'complex',\n",
       " 'copyright',\n",
       " 'credits',\n",
       " 'delattr',\n",
       " 'dict',\n",
       " 'dir',\n",
       " 'display',\n",
       " 'divmod',\n",
       " 'enumerate',\n",
       " 'eval',\n",
       " 'exec',\n",
       " 'filter',\n",
       " 'float',\n",
       " 'format',\n",
       " 'frozenset',\n",
       " 'get_ipython',\n",
       " 'getattr',\n",
       " 'globals',\n",
       " 'hasattr',\n",
       " 'hash',\n",
       " 'help',\n",
       " 'hex',\n",
       " 'id',\n",
       " 'input',\n",
       " 'int',\n",
       " 'isinstance',\n",
       " 'issubclass',\n",
       " 'iter',\n",
       " 'len',\n",
       " 'license',\n",
       " 'list',\n",
       " 'locals',\n",
       " 'map',\n",
       " 'max',\n",
       " 'memoryview',\n",
       " 'min',\n",
       " 'next',\n",
       " 'object',\n",
       " 'oct',\n",
       " 'open',\n",
       " 'ord',\n",
       " 'pow',\n",
       " 'print',\n",
       " 'property',\n",
       " 'range',\n",
       " 'repr',\n",
       " 'reversed',\n",
       " 'round',\n",
       " 'set',\n",
       " 'setattr',\n",
       " 'slice',\n",
       " 'sorted',\n",
       " 'staticmethod',\n",
       " 'str',\n",
       " 'sum',\n",
       " 'super',\n",
       " 'tuple',\n",
       " 'type',\n",
       " 'vars',\n",
       " 'zip']"
      ]
     },
     "execution_count": 2,
     "metadata": {},
     "output_type": "execute_result"
    }
   ],
   "source": [
    "dir(__builtins__)"
   ]
  },
  {
   "cell_type": "markdown",
   "metadata": {},
   "source": [
    "<h3>数学运算函数</h3>"
   ]
  },
  {
   "cell_type": "code",
   "execution_count": 4,
   "metadata": {
    "ExecuteTime": {
     "end_time": "2020-10-05T01:36:47.450411Z",
     "start_time": "2020-10-05T01:36:47.446442Z"
    }
   },
   "outputs": [
    {
     "data": {
      "text/plain": [
       "6"
      ]
     },
     "execution_count": 4,
     "metadata": {},
     "output_type": "execute_result"
    }
   ],
   "source": [
    "sum([1, 2, 3])"
   ]
  },
  {
   "cell_type": "code",
   "execution_count": 5,
   "metadata": {
    "ExecuteTime": {
     "end_time": "2020-10-05T01:40:59.345629Z",
     "start_time": "2020-10-05T01:40:59.341652Z"
    }
   },
   "outputs": [
    {
     "data": {
      "text/plain": [
       "1"
      ]
     },
     "execution_count": 5,
     "metadata": {},
     "output_type": "execute_result"
    }
   ],
   "source": [
    "abs(-1)"
   ]
  },
  {
   "cell_type": "code",
   "execution_count": 6,
   "metadata": {
    "ExecuteTime": {
     "end_time": "2020-10-05T01:41:09.793484Z",
     "start_time": "2020-10-05T01:41:09.789479Z"
    }
   },
   "outputs": [
    {
     "data": {
      "text/plain": [
       "8"
      ]
     },
     "execution_count": 6,
     "metadata": {},
     "output_type": "execute_result"
    }
   ],
   "source": [
    "pow(2, 3)"
   ]
  },
  {
   "cell_type": "code",
   "execution_count": 7,
   "metadata": {
    "ExecuteTime": {
     "end_time": "2020-10-05T01:41:26.619338Z",
     "start_time": "2020-10-05T01:41:26.615338Z"
    }
   },
   "outputs": [
    {
     "data": {
      "text/plain": [
       "(2, 1)"
      ]
     },
     "execution_count": 7,
     "metadata": {},
     "output_type": "execute_result"
    }
   ],
   "source": [
    "divmod(5, 2)"
   ]
  },
  {
   "cell_type": "code",
   "execution_count": 9,
   "metadata": {
    "ExecuteTime": {
     "end_time": "2020-10-05T01:42:46.730059Z",
     "start_time": "2020-10-05T01:42:46.725068Z"
    }
   },
   "outputs": [
    {
     "name": "stdout",
     "output_type": "stream",
     "text": [
      "3.14\n",
      "3\n"
     ]
    }
   ],
   "source": [
    "print(round(3.1415, 2))\n",
    "print(round(3.1415))"
   ]
  },
  {
   "cell_type": "code",
   "execution_count": 12,
   "metadata": {
    "ExecuteTime": {
     "end_time": "2020-10-05T01:46:48.015269Z",
     "start_time": "2020-10-05T01:46:48.012301Z"
    }
   },
   "outputs": [
    {
     "name": "stdout",
     "output_type": "stream",
     "text": [
      "[1, 3]\n"
     ]
    }
   ],
   "source": [
    "a = range(1, 5, 2)\n",
    "print(list(a))"
   ]
  },
  {
   "cell_type": "code",
   "execution_count": 13,
   "metadata": {
    "ExecuteTime": {
     "end_time": "2020-10-05T01:47:54.122593Z",
     "start_time": "2020-10-05T01:47:54.118599Z"
    }
   },
   "outputs": [
    {
     "name": "stdout",
     "output_type": "stream",
     "text": [
      "[-1, 2, 5, -3]\n",
      "4\n",
      "<class 'list'>\n"
     ]
    }
   ],
   "source": [
    "a = [-1, 2, 5, -3]\n",
    "print(str(a))\n",
    "print(len(a))\n",
    "print(type(a))"
   ]
  },
  {
   "cell_type": "markdown",
   "metadata": {},
   "source": [
    "<h3>类型转换与类型判断</h3>"
   ]
  },
  {
   "cell_type": "markdown",
   "metadata": {
    "ExecuteTime": {
     "end_time": "2020-10-05T02:02:13.968944Z",
     "start_time": "2020-10-05T02:02:13.962743Z"
    }
   },
   "source": [
    "<h4>十进制转为二进制、八进制、十六进制</h4>"
   ]
  },
  {
   "cell_type": "code",
   "execution_count": 27,
   "metadata": {
    "ExecuteTime": {
     "end_time": "2020-10-05T02:00:04.807301Z",
     "start_time": "2020-10-05T02:00:04.803303Z"
    }
   },
   "outputs": [
    {
     "data": {
      "text/plain": [
       "'0b1000101011'"
      ]
     },
     "execution_count": 27,
     "metadata": {},
     "output_type": "execute_result"
    }
   ],
   "source": [
    "# 转为二进制\n",
    "bin(555)"
   ]
  },
  {
   "cell_type": "code",
   "execution_count": 28,
   "metadata": {
    "ExecuteTime": {
     "end_time": "2020-10-05T02:00:14.518627Z",
     "start_time": "2020-10-05T02:00:14.514612Z"
    }
   },
   "outputs": [
    {
     "data": {
      "text/plain": [
       "'0o1053'"
      ]
     },
     "execution_count": 28,
     "metadata": {},
     "output_type": "execute_result"
    }
   ],
   "source": [
    "# 转为八进制\n",
    "oct(555)"
   ]
  },
  {
   "cell_type": "code",
   "execution_count": 29,
   "metadata": {
    "ExecuteTime": {
     "end_time": "2020-10-05T02:00:27.902856Z",
     "start_time": "2020-10-05T02:00:27.897881Z"
    }
   },
   "outputs": [
    {
     "data": {
      "text/plain": [
       "'0x22b'"
      ]
     },
     "execution_count": 29,
     "metadata": {},
     "output_type": "execute_result"
    }
   ],
   "source": [
    "# 转为16进制\n",
    "hex(555)"
   ]
  },
  {
   "cell_type": "markdown",
   "metadata": {},
   "source": [
    "<h4>n进制转为十进制</h4>"
   ]
  },
  {
   "cell_type": "code",
   "execution_count": 33,
   "metadata": {
    "ExecuteTime": {
     "end_time": "2020-10-05T02:04:05.878180Z",
     "start_time": "2020-10-05T02:04:05.874182Z"
    }
   },
   "outputs": [
    {
     "name": "stdout",
     "output_type": "stream",
     "text": [
      "555\n"
     ]
    }
   ],
   "source": [
    "# 十六转换为十进制\n",
    "print(int(\"0x22b\", 16))"
   ]
  },
  {
   "cell_type": "code",
   "execution_count": 32,
   "metadata": {
    "ExecuteTime": {
     "end_time": "2020-10-05T02:04:03.150227Z",
     "start_time": "2020-10-05T02:04:03.146229Z"
    }
   },
   "outputs": [
    {
     "name": "stdout",
     "output_type": "stream",
     "text": [
      "54324\n"
     ]
    }
   ],
   "source": [
    "# 二进制转十进制\n",
    "print(int(bin(54324), 2))"
   ]
  },
  {
   "cell_type": "markdown",
   "metadata": {},
   "source": [
    "<h4>类型转换</h4>"
   ]
  },
  {
   "cell_type": "code",
   "execution_count": 34,
   "metadata": {
    "ExecuteTime": {
     "end_time": "2020-10-05T02:05:34.445158Z",
     "start_time": "2020-10-05T02:05:34.440160Z"
    }
   },
   "outputs": [
    {
     "data": {
      "text/plain": [
       "-3"
      ]
     },
     "execution_count": 34,
     "metadata": {},
     "output_type": "execute_result"
    }
   ],
   "source": [
    "# 转换为整数\n",
    "int(-3.2)"
   ]
  },
  {
   "cell_type": "code",
   "execution_count": 35,
   "metadata": {
    "ExecuteTime": {
     "end_time": "2020-10-05T02:06:02.277959Z",
     "start_time": "2020-10-05T02:06:02.273991Z"
    }
   },
   "outputs": [
    {
     "data": {
      "text/plain": [
       "3.2"
      ]
     },
     "execution_count": 35,
     "metadata": {},
     "output_type": "execute_result"
    }
   ],
   "source": [
    "# 字符串转浮点型\n",
    "float(\"3.2\")"
   ]
  },
  {
   "cell_type": "code",
   "execution_count": 36,
   "metadata": {
    "ExecuteTime": {
     "end_time": "2020-10-05T02:07:27.933146Z",
     "start_time": "2020-10-05T02:07:27.929647Z"
    }
   },
   "outputs": [
    {
     "data": {
      "text/plain": [
       "inf"
      ]
     },
     "execution_count": 36,
     "metadata": {},
     "output_type": "execute_result"
    }
   ],
   "source": [
    "# 无穷大\n",
    "float(\"inf\")"
   ]
  },
  {
   "cell_type": "code",
   "execution_count": 40,
   "metadata": {
    "ExecuteTime": {
     "end_time": "2020-10-05T02:08:52.373102Z",
     "start_time": "2020-10-05T02:08:52.368767Z"
    }
   },
   "outputs": [
    {
     "name": "stdout",
     "output_type": "stream",
     "text": [
      "(3+2j)\n",
      "(3+0j)\n",
      "(inf+0j)\n"
     ]
    }
   ],
   "source": [
    "# 复数\n",
    "print(complex(3, 2))\n",
    "print(complex(3))\n",
    "print(complex(\"inf\"))"
   ]
  },
  {
   "cell_type": "markdown",
   "metadata": {},
   "source": [
    "<h4>小数和分数表示</h4>"
   ]
  },
  {
   "cell_type": "code",
   "execution_count": 20,
   "metadata": {
    "ExecuteTime": {
     "end_time": "2020-10-05T01:53:09.622038Z",
     "start_time": "2020-10-05T01:53:09.618040Z"
    }
   },
   "outputs": [
    {
     "name": "stdout",
     "output_type": "stream",
     "text": [
      "7/3\n"
     ]
    }
   ],
   "source": [
    "# 分数表示\n",
    "from fractions import Fraction\n",
    "x = Fraction(7, 3)\n",
    "print(x)"
   ]
  },
  {
   "cell_type": "code",
   "execution_count": 23,
   "metadata": {
    "ExecuteTime": {
     "end_time": "2020-10-05T01:55:08.529491Z",
     "start_time": "2020-10-05T01:55:08.523876Z"
    }
   },
   "outputs": [
    {
     "name": "stdout",
     "output_type": "stream",
     "text": [
      "3.333333333333333481363069950020872056484222412109375\n"
     ]
    }
   ],
   "source": [
    "# 小数表示\n",
    "from fractions import Decimal\n",
    "x = Decimal(10 / 3)\n",
    "print(x)"
   ]
  },
  {
   "cell_type": "markdown",
   "metadata": {},
   "source": [
    "<h4>字符串编码</h4>"
   ]
  },
  {
   "cell_type": "code",
   "execution_count": 41,
   "metadata": {
    "ExecuteTime": {
     "end_time": "2020-10-05T02:10:00.628815Z",
     "start_time": "2020-10-05T02:10:00.624838Z"
    }
   },
   "outputs": [
    {
     "data": {
      "text/plain": [
       "97"
      ]
     },
     "execution_count": 41,
     "metadata": {},
     "output_type": "execute_result"
    }
   ],
   "source": [
    "# 查看Unicode码\n",
    "ord(\"a\")"
   ]
  },
  {
   "cell_type": "code",
   "execution_count": 42,
   "metadata": {
    "ExecuteTime": {
     "end_time": "2020-10-05T02:10:14.478819Z",
     "start_time": "2020-10-05T02:10:14.474865Z"
    }
   },
   "outputs": [
    {
     "data": {
      "text/plain": [
       "'A'"
      ]
     },
     "execution_count": 42,
     "metadata": {},
     "output_type": "execute_result"
    }
   ],
   "source": [
    "# 查看对应的字符\n",
    "chr(65)"
   ]
  },
  {
   "cell_type": "code",
   "execution_count": 43,
   "metadata": {
    "ExecuteTime": {
     "end_time": "2020-10-05T02:10:34.421220Z",
     "start_time": "2020-10-05T02:10:34.417218Z"
    }
   },
   "outputs": [
    {
     "data": {
      "text/plain": [
       "'图'"
      ]
     },
     "execution_count": 43,
     "metadata": {},
     "output_type": "execute_result"
    }
   ],
   "source": [
    "# 支持中文\n",
    "chr(ord(\"国\") + 1)"
   ]
  },
  {
   "cell_type": "markdown",
   "metadata": {},
   "source": [
    "<h4>join函数</h4>"
   ]
  },
  {
   "cell_type": "code",
   "execution_count": 47,
   "metadata": {
    "ExecuteTime": {
     "end_time": "2020-10-05T02:13:18.446088Z",
     "start_time": "2020-10-05T02:13:18.440119Z"
    }
   },
   "outputs": [
    {
     "data": {
      "text/plain": [
       "'宗祥瑞'"
      ]
     },
     "execution_count": 47,
     "metadata": {},
     "output_type": "execute_result"
    }
   ],
   "source": [
    "\"\".join(map(chr, (23447, 31077, 29790)))"
   ]
  },
  {
   "cell_type": "code",
   "execution_count": 50,
   "metadata": {
    "ExecuteTime": {
     "end_time": "2020-10-05T02:18:31.479626Z",
     "start_time": "2020-10-05T02:18:31.464599Z"
    }
   },
   "outputs": [
    {
     "data": {
      "text/plain": [
       "'12345678'"
      ]
     },
     "execution_count": 50,
     "metadata": {},
     "output_type": "execute_result"
    }
   ],
   "source": [
    "\"\".join(map(str, [1234, 5678]))"
   ]
  },
  {
   "cell_type": "code",
   "execution_count": 51,
   "metadata": {
    "ExecuteTime": {
     "end_time": "2020-10-05T02:20:43.873143Z",
     "start_time": "2020-10-05T02:20:43.869120Z"
    }
   },
   "outputs": [
    {
     "data": {
      "text/plain": [
       "'12345678'"
      ]
     },
     "execution_count": 51,
     "metadata": {},
     "output_type": "execute_result"
    }
   ],
   "source": [
    "_"
   ]
  },
  {
   "cell_type": "markdown",
   "metadata": {},
   "source": [
    "<h4>类型转换</h4>"
   ]
  },
  {
   "cell_type": "code",
   "execution_count": 52,
   "metadata": {
    "ExecuteTime": {
     "end_time": "2020-10-05T02:29:37.064501Z",
     "start_time": "2020-10-05T02:29:37.059513Z"
    }
   },
   "outputs": [
    {
     "data": {
      "text/plain": [
       "{'1': 'a', '2': 'b', '3': 'c', '4': 'd'}"
      ]
     },
     "execution_count": 52,
     "metadata": {},
     "output_type": "execute_result"
    }
   ],
   "source": [
    "dict(zip(\"1234\", \"abcde\"))"
   ]
  },
  {
   "cell_type": "code",
   "execution_count": 53,
   "metadata": {
    "ExecuteTime": {
     "end_time": "2020-10-05T02:29:54.058784Z",
     "start_time": "2020-10-05T02:29:54.054781Z"
    }
   },
   "outputs": [
    {
     "data": {
      "text/plain": [
       "('1', '2', '3', '4')"
      ]
     },
     "execution_count": 53,
     "metadata": {},
     "output_type": "execute_result"
    }
   ],
   "source": [
    "tuple(_)"
   ]
  },
  {
   "cell_type": "code",
   "execution_count": 57,
   "metadata": {
    "ExecuteTime": {
     "end_time": "2020-10-05T02:33:13.634416Z",
     "start_time": "2020-10-05T02:33:13.628750Z"
    }
   },
   "outputs": [
    {
     "data": {
      "text/plain": [
       "{'1', '2', '3', '4'}"
      ]
     },
     "execution_count": 57,
     "metadata": {},
     "output_type": "execute_result"
    }
   ],
   "source": [
    "set(\"1112234\")"
   ]
  },
  {
   "cell_type": "code",
   "execution_count": 58,
   "metadata": {
    "ExecuteTime": {
     "end_time": "2020-10-05T02:33:25.526717Z",
     "start_time": "2020-10-05T02:33:25.524281Z"
    }
   },
   "outputs": [],
   "source": [
    "_.add(\"5\")"
   ]
  },
  {
   "cell_type": "code",
   "execution_count": 59,
   "metadata": {
    "ExecuteTime": {
     "end_time": "2020-10-05T02:33:53.783807Z",
     "start_time": "2020-10-05T02:33:53.779803Z"
    }
   },
   "outputs": [
    {
     "name": "stdout",
     "output_type": "stream",
     "text": [
      "frozenset({'1', '3', '5', '2', '4'})\n"
     ]
    }
   ],
   "source": [
    "a = frozenset(\"1212345\")\n",
    "print(a)"
   ]
  },
  {
   "cell_type": "markdown",
   "metadata": {},
   "source": [
    "<h3>最值与求和</h3>"
   ]
  },
  {
   "cell_type": "code",
   "execution_count": 60,
   "metadata": {
    "ExecuteTime": {
     "end_time": "2020-10-05T02:44:00.752151Z",
     "start_time": "2020-10-05T02:44:00.748151Z"
    }
   },
   "outputs": [
    {
     "name": "stdout",
     "output_type": "stream",
     "text": [
      "580 4 91\n"
     ]
    }
   ],
   "source": [
    "from random import randint\n",
    "a = [randint(1, 100) for _ in range(10)]\n",
    "print(sum(a), min(a), max(a))"
   ]
  },
  {
   "cell_type": "code",
   "execution_count": 63,
   "metadata": {
    "ExecuteTime": {
     "end_time": "2020-10-05T02:44:58.110430Z",
     "start_time": "2020-10-05T02:44:58.106462Z"
    }
   },
   "outputs": [
    {
     "name": "stdout",
     "output_type": "stream",
     "text": [
      "2\n",
      "111\n"
     ]
    }
   ],
   "source": [
    "print(max([\"2\", \"111\"]))\n",
    "print(max([\"2\", \"111\"], key=len))"
   ]
  },
  {
   "cell_type": "code",
   "execution_count": 67,
   "metadata": {
    "ExecuteTime": {
     "end_time": "2020-10-05T02:46:58.487400Z",
     "start_time": "2020-10-05T02:46:58.482438Z"
    }
   },
   "outputs": [
    {
     "name": "stdout",
     "output_type": "stream",
     "text": [
      "98\n"
     ]
    }
   ],
   "source": [
    "from random import randint\n",
    "a = [randint(-10-0, 101) for _ in range(10)]\n",
    "temp = max(a, key=abs)\n",
    "print(temp)"
   ]
  },
  {
   "cell_type": "markdown",
   "metadata": {},
   "source": [
    "<h3>输入和输出</h3>"
   ]
  },
  {
   "cell_type": "code",
   "execution_count": 73,
   "metadata": {
    "ExecuteTime": {
     "end_time": "2020-10-05T02:50:59.572281Z",
     "start_time": "2020-10-05T02:50:55.353736Z"
    }
   },
   "outputs": [
    {
     "name": "stdout",
     "output_type": "stream",
     "text": [
      "请输入[1, 2, 3, 4]\n",
      "10\n"
     ]
    }
   ],
   "source": [
    "x = input(\"请输入\")\n",
    "x = sum(eval(x))\n",
    "print(x)"
   ]
  },
  {
   "cell_type": "code",
   "execution_count": 74,
   "metadata": {
    "ExecuteTime": {
     "end_time": "2020-10-05T02:54:06.255320Z",
     "start_time": "2020-10-05T02:54:06.251348Z"
    }
   },
   "outputs": [
    {
     "name": "stdout",
     "output_type": "stream",
     "text": [
      "1*2*3*4+"
     ]
    }
   ],
   "source": [
    "print(1, 2, 3, 4, sep=\"*\", end=\"+\")"
   ]
  },
  {
   "cell_type": "code",
   "execution_count": 90,
   "metadata": {
    "ExecuteTime": {
     "end_time": "2020-10-05T03:04:40.339081Z",
     "start_time": "2020-10-05T03:04:40.335110Z"
    }
   },
   "outputs": [],
   "source": [
    "from sys import argv\n",
    "from datetime import datetime\n",
    "with open(\"data/a.txt\", \"a\") as f:\n",
    "    print(datetime.now(), argv[0], sep=\"|\", file=f)"
   ]
  },
  {
   "cell_type": "markdown",
   "metadata": {},
   "source": [
    "<h3>排序</h3>"
   ]
  },
  {
   "cell_type": "code",
   "execution_count": 103,
   "metadata": {
    "ExecuteTime": {
     "end_time": "2020-10-05T03:09:14.574939Z",
     "start_time": "2020-10-05T03:09:14.568939Z"
    }
   },
   "outputs": [
    {
     "name": "stdout",
     "output_type": "stream",
     "text": [
      "[0, 1, 2, 3, 4, 5, 6, 7, 8, 9, 10]\n",
      "[0, 1, 2, 3, 4, 5, 6, 7, 8, 9, 10]\n",
      "[0, 1, 10, 2, 3, 4, 5, 6, 7, 8, 9]\n",
      "[7, 2, 0, 5, 3, 4, 6, 8, 9, 1, 10]\n"
     ]
    }
   ],
   "source": [
    "import random\n",
    "x = list(range(11))\n",
    "random.shuffle(x)\n",
    "print(sorted(x))\n",
    "print(sorted(x, key=abs))\n",
    "print(sorted(x, key=str))\n",
    "print(sorted(x, key=lambda x: len(str(x))))"
   ]
  },
  {
   "cell_type": "code",
   "execution_count": 104,
   "metadata": {
    "ExecuteTime": {
     "end_time": "2020-10-05T03:12:42.162711Z",
     "start_time": "2020-10-05T03:12:42.157714Z"
    }
   },
   "outputs": [
    {
     "name": "stdout",
     "output_type": "stream",
     "text": [
      "['b', 'd', 'ba', 'bc', 'aaaa']\n"
     ]
    }
   ],
   "source": [
    "x = [\"aaaa\", \"bc\", \"d\", \"b\", \"ba\"]\n",
    "print(sorted(x, key=lambda x:(len(x), x)))"
   ]
  },
  {
   "cell_type": "markdown",
   "metadata": {},
   "source": [
    "<h3>枚举和迭代</h3>"
   ]
  },
  {
   "cell_type": "code",
   "execution_count": 105,
   "metadata": {
    "ExecuteTime": {
     "end_time": "2020-10-05T03:16:14.812523Z",
     "start_time": "2020-10-05T03:16:14.808525Z"
    }
   },
   "outputs": [
    {
     "data": {
      "text/plain": [
       "[(0, '1'), (1, '2'), (2, '3'), (3, '4')]"
      ]
     },
     "execution_count": 105,
     "metadata": {},
     "output_type": "execute_result"
    }
   ],
   "source": [
    "list(enumerate(\"1234\"))"
   ]
  },
  {
   "cell_type": "markdown",
   "metadata": {},
   "source": [
    "<h3>map, reduce, filter</h3>"
   ]
  },
  {
   "cell_type": "markdown",
   "metadata": {},
   "source": [
    "<h4>map</h4>"
   ]
  },
  {
   "cell_type": "code",
   "execution_count": 106,
   "metadata": {
    "ExecuteTime": {
     "end_time": "2020-10-05T03:18:17.146240Z",
     "start_time": "2020-10-05T03:18:17.141198Z"
    }
   },
   "outputs": [
    {
     "data": {
      "text/plain": [
       "['0', '1', '2', '3']"
      ]
     },
     "execution_count": 106,
     "metadata": {},
     "output_type": "execute_result"
    }
   ],
   "source": [
    "list(map(str, range(0, 4)))"
   ]
  },
  {
   "cell_type": "code",
   "execution_count": 107,
   "metadata": {
    "ExecuteTime": {
     "end_time": "2020-10-05T03:19:13.016225Z",
     "start_time": "2020-10-05T03:19:13.012260Z"
    }
   },
   "outputs": [
    {
     "name": "stdout",
     "output_type": "stream",
     "text": [
      "[5, 6, 7, 8]\n"
     ]
    }
   ],
   "source": [
    "def add5(v):\n",
    "    return v + 5\n",
    "print(list(map(add5, range(4))))"
   ]
  },
  {
   "cell_type": "code",
   "execution_count": 110,
   "metadata": {
    "ExecuteTime": {
     "end_time": "2020-10-05T03:20:30.951801Z",
     "start_time": "2020-10-05T03:20:30.947808Z"
    }
   },
   "outputs": [
    {
     "name": "stdout",
     "output_type": "stream",
     "text": [
      "[1, 3, 5, 7]\n"
     ]
    }
   ],
   "source": [
    "def add(x, y):\n",
    "    return x + y\n",
    "print(list(map(add, range(4), range(1, 5))))"
   ]
  },
  {
   "cell_type": "code",
   "execution_count": 112,
   "metadata": {
    "ExecuteTime": {
     "end_time": "2020-10-05T03:22:11.962134Z",
     "start_time": "2020-10-05T03:22:11.956137Z"
    }
   },
   "outputs": [
    {
     "name": "stdout",
     "output_type": "stream",
     "text": [
      "[2, 8, 7, 0, 5, 9, 6, 0, 0, 3, 4, 1, 4, 1, 2, 6, 5, 8, 3, 0, 2, 6, 9, 0, 6, 3, 0, 9, 2, 2]\n"
     ]
    }
   ],
   "source": [
    "from random import randint\n",
    "x = randint(1, 1e30)\n",
    "print(list(map(int, str(x))))"
   ]
  },
  {
   "cell_type": "markdown",
   "metadata": {},
   "source": [
    "<h4>reduce</h4>"
   ]
  },
  {
   "cell_type": "code",
   "execution_count": 122,
   "metadata": {
    "ExecuteTime": {
     "end_time": "2020-10-05T03:36:25.572710Z",
     "start_time": "2020-10-05T03:36:25.567711Z"
    }
   },
   "outputs": [
    {
     "name": "stdout",
     "output_type": "stream",
     "text": [
      "45\n",
      "45\n",
      "9\n",
      "9\n",
      "1\n",
      "1\n"
     ]
    }
   ],
   "source": [
    "from functools import reduce\n",
    "seq = list(range(1, 10))\n",
    "print(reduce(lambda x, y: x + y, seq))\n",
    "print(sum(seq))\n",
    "print(reduce(lambda x, y:x if x > y else y, seq))\n",
    "print(max(seq))\n",
    "print(reduce(lambda x, y: x if x < y else y, seq))\n",
    "print(min(seq))"
   ]
  },
  {
   "cell_type": "markdown",
   "metadata": {},
   "source": [
    "<h4>filter</h4>"
   ]
  },
  {
   "cell_type": "code",
   "execution_count": 123,
   "metadata": {
    "ExecuteTime": {
     "end_time": "2020-10-05T03:38:49.152556Z",
     "start_time": "2020-10-05T03:38:49.148033Z"
    }
   },
   "outputs": [
    {
     "name": "stdout",
     "output_type": "stream",
     "text": [
      "[1, 2, 3, 6, 4]\n"
     ]
    }
   ],
   "source": [
    "seq = [1, 2, 3, -2, -5, 6, -2, -4, 4, 0]\n",
    "print(list(filter(lambda x: x > 0, seq)))"
   ]
  },
  {
   "cell_type": "code",
   "execution_count": 125,
   "metadata": {
    "ExecuteTime": {
     "end_time": "2020-10-05T03:40:08.125624Z",
     "start_time": "2020-10-05T03:40:08.120624Z"
    }
   },
   "outputs": [
    {
     "name": "stdout",
     "output_type": "stream",
     "text": [
      "[1, 2, 3, -2, -5, 6, -2, -4, 4]\n"
     ]
    }
   ],
   "source": [
    "seq = [1, 2, 3, -2, -5, 6, -2, -4, 4, 0]\n",
    "print(list(filter(None, seq)))"
   ]
  },
  {
   "cell_type": "markdown",
   "metadata": {},
   "source": [
    "<h3>range, zip</h3>"
   ]
  },
  {
   "cell_type": "code",
   "execution_count": 126,
   "metadata": {
    "ExecuteTime": {
     "end_time": "2020-10-05T04:06:17.805606Z",
     "start_time": "2020-10-05T04:06:17.800603Z"
    }
   },
   "outputs": [
    {
     "data": {
      "text/plain": [
       "[9, 7, 5, 3, 1]"
      ]
     },
     "execution_count": 126,
     "metadata": {},
     "output_type": "execute_result"
    }
   ],
   "source": [
    "list(range(9, 0, -2))"
   ]
  },
  {
   "cell_type": "code",
   "execution_count": 127,
   "metadata": {
    "ExecuteTime": {
     "end_time": "2020-10-05T04:07:25.784683Z",
     "start_time": "2020-10-05T04:07:25.780651Z"
    }
   },
   "outputs": [
    {
     "name": "stdout",
     "output_type": "stream",
     "text": [
      "[(1, 4, 7), (2, 5, 8), (3, 6, 9)]\n"
     ]
    }
   ],
   "source": [
    "# 矩阵转置\n",
    "mat = [[1, 2, 3], [4, 5, 6], [7, 8, 9]]\n",
    "print(list(zip(*mat)))"
   ]
  },
  {
   "cell_type": "markdown",
   "metadata": {},
   "source": [
    "<h3>示例</h3>"
   ]
  },
  {
   "cell_type": "markdown",
   "metadata": {},
   "source": [
    "<h4>输入一个三位数，求出百位、十位、个位</h4>"
   ]
  },
  {
   "cell_type": "code",
   "execution_count": 130,
   "metadata": {
    "ExecuteTime": {
     "end_time": "2020-10-05T04:13:31.817570Z",
     "start_time": "2020-10-05T04:13:30.370397Z"
    }
   },
   "outputs": [
    {
     "name": "stdout",
     "output_type": "stream",
     "text": [
      "输入三位自然数123\n",
      "[1, 2, 3]\n"
     ]
    }
   ],
   "source": [
    "num = input(\"输入三位自然数\")\n",
    "print(list(map(int, str(num))))"
   ]
  },
  {
   "cell_type": "code",
   "execution_count": 136,
   "metadata": {
    "ExecuteTime": {
     "end_time": "2020-10-05T04:16:39.450387Z",
     "start_time": "2020-10-05T04:16:38.009554Z"
    }
   },
   "outputs": [
    {
     "name": "stdout",
     "output_type": "stream",
     "text": [
      "输入三位数123\n",
      "1 2 3\n"
     ]
    }
   ],
   "source": [
    "num = input(\"输入三位数\")\n",
    "a, b = divmod(eval(num), 100)\n",
    "c, d = divmod(b, 10)\n",
    "print(a, c, d)"
   ]
  },
  {
   "cell_type": "markdown",
   "metadata": {},
   "source": [
    "<h4>任意输入三个单词，逗号隔开，字典序输出</h4>"
   ]
  },
  {
   "cell_type": "code",
   "execution_count": 149,
   "metadata": {
    "ExecuteTime": {
     "end_time": "2020-10-05T04:29:21.440158Z",
     "start_time": "2020-10-05T04:29:17.855370Z"
    }
   },
   "outputs": [
    {
     "name": "stdout",
     "output_type": "stream",
     "text": [
      "输入三个单词aaa,dddf,ggg\n",
      "aaa\n",
      "dddf\n",
      "ggg\n"
     ]
    }
   ],
   "source": [
    "s = input(\"输入三个单词\")\n",
    "ss = sorted(list(map(str.strip, s.split(\",\"))))\n",
    "_ = list(map(print, ss))"
   ]
  },
  {
   "cell_type": "markdown",
   "metadata": {},
   "source": [
    "<h2>自定义函数</h2>"
   ]
  },
  {
   "cell_type": "markdown",
   "metadata": {},
   "source": [
    "<h3>自定义函数</h3>"
   ]
  },
  {
   "cell_type": "code",
   "execution_count": 150,
   "metadata": {
    "ExecuteTime": {
     "end_time": "2020-10-05T04:34:21.534946Z",
     "start_time": "2020-10-05T04:34:21.531965Z"
    }
   },
   "outputs": [
    {
     "name": "stdout",
     "output_type": "stream",
     "text": [
      "(3, 2)\n"
     ]
    }
   ],
   "source": [
    "def func(a: int, b: int) -> int:\n",
    "    \"\"\"\n",
    "    自定义函数\n",
    "    \"\"\"\n",
    "    return a + b, a * b\n",
    "\n",
    "print(func(1, 2))"
   ]
  },
  {
   "cell_type": "markdown",
   "metadata": {},
   "source": [
    "<h3>函数嵌套</h3>"
   ]
  },
  {
   "cell_type": "code",
   "execution_count": 155,
   "metadata": {
    "ExecuteTime": {
     "end_time": "2020-10-05T04:46:49.848941Z",
     "start_time": "2020-10-05T04:46:49.844940Z"
    }
   },
   "outputs": [],
   "source": [
    "def func(iterable, op: str, value):\n",
    "    \"\"\"\n",
    "    自定义函数\n",
    "    \"\"\"\n",
    "    if op not in \"+-*/\":\n",
    "        return None\n",
    "    def operation(item):\n",
    "        return eval(repr(item) + op + repr(value))\n",
    "    return map(operation, iterable)"
   ]
  },
  {
   "cell_type": "code",
   "execution_count": 156,
   "metadata": {
    "ExecuteTime": {
     "end_time": "2020-10-05T04:46:50.872344Z",
     "start_time": "2020-10-05T04:46:50.868349Z"
    }
   },
   "outputs": [
    {
     "name": "stdout",
     "output_type": "stream",
     "text": [
      "[2, 3, 4]\n"
     ]
    }
   ],
   "source": [
    "print(list(func(range(3), \"+\", 2)))"
   ]
  },
  {
   "cell_type": "markdown",
   "metadata": {},
   "source": [
    "<h3>递归调用</h3>"
   ]
  },
  {
   "cell_type": "code",
   "execution_count": 157,
   "metadata": {
    "ExecuteTime": {
     "end_time": "2020-10-05T04:53:33.293087Z",
     "start_time": "2020-10-05T04:53:33.288093Z"
    }
   },
   "outputs": [],
   "source": [
    "def jiecheng(n):\n",
    "    \"\"\"\n",
    "    使用递归实现n的阶乘\n",
    "    \"\"\"\n",
    "    if n == 1:\n",
    "        return 1\n",
    "    elif n == 2:\n",
    "        return 2\n",
    "    else:\n",
    "        return n * jiecheng(n - 1)"
   ]
  },
  {
   "cell_type": "code",
   "execution_count": 158,
   "metadata": {
    "ExecuteTime": {
     "end_time": "2020-10-05T04:53:47.028472Z",
     "start_time": "2020-10-05T04:53:47.025466Z"
    }
   },
   "outputs": [
    {
     "name": "stdout",
     "output_type": "stream",
     "text": [
      "6\n"
     ]
    }
   ],
   "source": [
    "print(jiecheng(3))"
   ]
  },
  {
   "cell_type": "code",
   "execution_count": 159,
   "metadata": {
    "ExecuteTime": {
     "end_time": "2020-10-05T05:01:23.487354Z",
     "start_time": "2020-10-05T05:01:23.483063Z"
    }
   },
   "outputs": [],
   "source": [
    "def get_max(lst: list) -> int:\n",
    "    \"\"\"\n",
    "    使用递归找出列表最大元素\n",
    "    \"\"\"\n",
    "    if len(lst) == 1:\n",
    "        return lst[0]\n",
    "    elif len(lst) == 2:\n",
    "        return lst[0] if lst[0] > lst[1] else lst[1]\n",
    "    else:\n",
    "        return lst[0] if lst[0] > get_max(lst[1:]) else get_max(lst[1:])"
   ]
  },
  {
   "cell_type": "code",
   "execution_count": 164,
   "metadata": {
    "ExecuteTime": {
     "end_time": "2020-10-05T05:03:03.126999Z",
     "start_time": "2020-10-05T05:03:03.121413Z"
    }
   },
   "outputs": [
    {
     "name": "stdout",
     "output_type": "stream",
     "text": [
      "56\n",
      "56\n"
     ]
    }
   ],
   "source": [
    "a = [12, 4, 2, 56, 1, 23,54 ,2 ,6, 3]\n",
    "print(get_max(a))\n",
    "print(max(a))"
   ]
  },
  {
   "cell_type": "markdown",
   "metadata": {},
   "source": [
    "<h3>参数传递：值传递</h3>"
   ]
  },
  {
   "cell_type": "code",
   "execution_count": 165,
   "metadata": {
    "ExecuteTime": {
     "end_time": "2020-10-05T05:11:02.289549Z",
     "start_time": "2020-10-05T05:11:02.284553Z"
    }
   },
   "outputs": [],
   "source": [
    "def add1(num: int) -> None:\n",
    "    \"\"\"\n",
    "    内部加一\n",
    "    \"\"\"\n",
    "    num += 1\n",
    "    print(\"内部\", num)"
   ]
  },
  {
   "cell_type": "code",
   "execution_count": 166,
   "metadata": {
    "ExecuteTime": {
     "end_time": "2020-10-05T05:11:26.955038Z",
     "start_time": "2020-10-05T05:11:26.952037Z"
    }
   },
   "outputs": [
    {
     "name": "stdout",
     "output_type": "stream",
     "text": [
      "内部 11\n",
      "外部 10\n"
     ]
    }
   ],
   "source": [
    "# 值传递\n",
    "num = 10\n",
    "add1(10)\n",
    "print(\"外部\", num)"
   ]
  },
  {
   "cell_type": "markdown",
   "metadata": {},
   "source": [
    "<h3>批量传递：引用传递</h3>\n",
    "<strong>使用列表或字典传参，对内部的变更会影响外部</strong>"
   ]
  },
  {
   "cell_type": "code",
   "execution_count": 168,
   "metadata": {
    "ExecuteTime": {
     "end_time": "2020-10-05T05:17:49.865936Z",
     "start_time": "2020-10-05T05:17:49.862974Z"
    }
   },
   "outputs": [],
   "source": [
    "def add1(lst: list) -> None:\n",
    "    \"\"\"\n",
    "    内部加一\n",
    "    \"\"\"\n",
    "    for i in range(len(lst)):\n",
    "        lst[i] = lst[i] + 1\n",
    "    print(\"内部\", lst)"
   ]
  },
  {
   "cell_type": "code",
   "execution_count": 170,
   "metadata": {
    "ExecuteTime": {
     "end_time": "2020-10-05T05:18:24.595115Z",
     "start_time": "2020-10-05T05:18:24.592148Z"
    }
   },
   "outputs": [
    {
     "name": "stdout",
     "output_type": "stream",
     "text": [
      "内部 [2, 3, 4, 5, 6, 7, 8]\n",
      "外部 [2, 3, 4, 5, 6, 7, 8]\n"
     ]
    }
   ],
   "source": [
    "x = [1, 2, 3, 4, 5, 6, 7]\n",
    "add1(x)\n",
    "print(\"外部\", x)"
   ]
  },
  {
   "cell_type": "markdown",
   "metadata": {},
   "source": [
    "<h3>关键字参数</h3>"
   ]
  },
  {
   "cell_type": "code",
   "execution_count": 171,
   "metadata": {
    "ExecuteTime": {
     "end_time": "2020-10-05T05:22:20.356949Z",
     "start_time": "2020-10-05T05:22:20.353979Z"
    }
   },
   "outputs": [],
   "source": [
    "def demo(a, b, c):\n",
    "    print(a, b, c)"
   ]
  },
  {
   "cell_type": "code",
   "execution_count": 172,
   "metadata": {
    "ExecuteTime": {
     "end_time": "2020-10-05T05:22:38.315609Z",
     "start_time": "2020-10-05T05:22:38.311995Z"
    }
   },
   "outputs": [
    {
     "name": "stdout",
     "output_type": "stream",
     "text": [
      "1 2 3\n"
     ]
    }
   ],
   "source": [
    "demo(b=2, c=3, a=1)"
   ]
  },
  {
   "cell_type": "markdown",
   "metadata": {},
   "source": [
    "<h3>可变长度参数</h3>"
   ]
  },
  {
   "cell_type": "code",
   "execution_count": 1,
   "metadata": {
    "ExecuteTime": {
     "end_time": "2020-10-05T07:33:12.684246Z",
     "start_time": "2020-10-05T07:33:12.680247Z"
    }
   },
   "outputs": [
    {
     "name": "stdout",
     "output_type": "stream",
     "text": [
      "(1, 2, 3)\n"
     ]
    }
   ],
   "source": [
    "def demo(*p):\n",
    "    print(p)\n",
    "demo(1, 2, 3)"
   ]
  },
  {
   "cell_type": "code",
   "execution_count": 2,
   "metadata": {
    "ExecuteTime": {
     "end_time": "2020-10-05T07:34:28.582178Z",
     "start_time": "2020-10-05T07:34:28.577164Z"
    }
   },
   "outputs": [
    {
     "name": "stdout",
     "output_type": "stream",
     "text": [
      "('a', 1)\n",
      "('b', 2)\n",
      "('c', 3)\n"
     ]
    }
   ],
   "source": [
    "def demo(**p):\n",
    "    for item in p.items():\n",
    "        print(item)\n",
    "demo(a=1, b=2, c=3)"
   ]
  },
  {
   "cell_type": "markdown",
   "metadata": {},
   "source": [
    "<h3>排序</h3>"
   ]
  },
  {
   "cell_type": "code",
   "execution_count": 4,
   "metadata": {
    "ExecuteTime": {
     "end_time": "2020-10-05T07:41:44.342350Z",
     "start_time": "2020-10-05T07:41:44.338317Z"
    }
   },
   "outputs": [
    {
     "name": "stdout",
     "output_type": "stream",
     "text": [
      "[1, 2, -9, -10, 12]\n"
     ]
    }
   ],
   "source": [
    "# 原地排序\n",
    "data = [-9, -10, 1, 2, 12]\n",
    "data.sort(key=abs)\n",
    "print(data)"
   ]
  },
  {
   "cell_type": "code",
   "execution_count": 5,
   "metadata": {
    "ExecuteTime": {
     "end_time": "2020-10-05T07:43:13.902055Z",
     "start_time": "2020-10-05T07:43:13.897071Z"
    }
   },
   "outputs": [
    {
     "name": "stdout",
     "output_type": "stream",
     "text": [
      "[1, 2, -9, -10, 12]\n",
      "[-9, -10, 1, 2, 12]\n"
     ]
    }
   ],
   "source": [
    "# 返回新结果排序\n",
    "data = [-9, -10, 1, 2, 12]\n",
    "print(sorted(data, key=abs))\n",
    "print(data)"
   ]
  },
  {
   "cell_type": "markdown",
   "metadata": {},
   "source": [
    "<h3>示例</h3>"
   ]
  },
  {
   "cell_type": "markdown",
   "metadata": {},
   "source": [
    "<h4>参数接收任意多个实数，返回一个元组。元组第一个元素为参数平均值，其他元素为参数中大于0的</h4>"
   ]
  },
  {
   "cell_type": "code",
   "execution_count": 11,
   "metadata": {
    "ExecuteTime": {
     "end_time": "2020-10-05T07:48:57.228055Z",
     "start_time": "2020-10-05T07:48:57.224057Z"
    }
   },
   "outputs": [],
   "source": [
    "import numpy as np\n",
    "def func(*p):\n",
    "    result1 = np.mean(p)\n",
    "    result = [x for x in p if x > result1]\n",
    "    return (result1, ) + tuple(result)"
   ]
  },
  {
   "cell_type": "code",
   "execution_count": 12,
   "metadata": {
    "ExecuteTime": {
     "end_time": "2020-10-05T07:48:57.791109Z",
     "start_time": "2020-10-05T07:48:57.783074Z"
    }
   },
   "outputs": [
    {
     "data": {
      "text/plain": [
       "(3.2, 5, 5)"
      ]
     },
     "execution_count": 12,
     "metadata": {},
     "output_type": "execute_result"
    }
   ],
   "source": [
    "func(2, 5, 1, 3, 5)"
   ]
  },
  {
   "cell_type": "markdown",
   "metadata": {},
   "source": [
    "<h4>接收字符串参数，返回一个元组。第一个元素为大写字母个数，第二个元素为小写字母个数</h4>"
   ]
  },
  {
   "cell_type": "code",
   "execution_count": 15,
   "metadata": {
    "ExecuteTime": {
     "end_time": "2020-10-05T07:57:07.715555Z",
     "start_time": "2020-10-05T07:57:07.711555Z"
    }
   },
   "outputs": [],
   "source": [
    "def func(param: str) -> tuple:\n",
    "    \"\"\"\n",
    "    统计大写，小写字母个数\n",
    "    \"\"\"\n",
    "    result1 = 0\n",
    "    result2 = 0\n",
    "    for x in param:\n",
    "        if x.isupper():\n",
    "            result1 = result1 + 1\n",
    "        if x.islower():\n",
    "            result2 = result2 + 1\n",
    "    return result1, result2"
   ]
  },
  {
   "cell_type": "code",
   "execution_count": 16,
   "metadata": {
    "ExecuteTime": {
     "end_time": "2020-10-05T07:57:07.984679Z",
     "start_time": "2020-10-05T07:57:07.980716Z"
    }
   },
   "outputs": [
    {
     "data": {
      "text/plain": [
       "(7, 8)"
      ]
     },
     "execution_count": 16,
     "metadata": {},
     "output_type": "execute_result"
    }
   ],
   "source": [
    "func(\"sdfadfUYGVBSDds\")"
   ]
  },
  {
   "cell_type": "markdown",
   "metadata": {},
   "source": [
    "<h4>求最大公约数和最小公倍数</h4>"
   ]
  },
  {
   "cell_type": "code",
   "execution_count": 17,
   "metadata": {
    "ExecuteTime": {
     "end_time": "2020-10-05T08:00:45.374306Z",
     "start_time": "2020-10-05T08:00:45.369308Z"
    }
   },
   "outputs": [],
   "source": [
    "def func(a: int, b: int) -> tuple:\n",
    "    \"\"\"\n",
    "    辗转相除法\n",
    "    \"\"\"\n",
    "    p = a * b\n",
    "    while a % b != 0:\n",
    "        a, b = b, a%b\n",
    "    return b, p // a"
   ]
  },
  {
   "cell_type": "code",
   "execution_count": 18,
   "metadata": {
    "ExecuteTime": {
     "end_time": "2020-10-05T08:02:04.314620Z",
     "start_time": "2020-10-05T08:02:04.309591Z"
    }
   },
   "outputs": [
    {
     "data": {
      "text/plain": [
       "4"
      ]
     },
     "execution_count": 18,
     "metadata": {},
     "output_type": "execute_result"
    }
   ],
   "source": [
    "# 最大公约数\n",
    "import math \n",
    "math.gcd(12, 8)"
   ]
  },
  {
   "cell_type": "markdown",
   "metadata": {},
   "source": [
    "<h4>以n为支点，小于n放前面，大于n放后面</h4>"
   ]
  },
  {
   "cell_type": "code",
   "execution_count": 20,
   "metadata": {
    "ExecuteTime": {
     "end_time": "2020-10-05T08:06:51.247855Z",
     "start_time": "2020-10-05T08:06:51.243824Z"
    }
   },
   "outputs": [],
   "source": [
    "def func(lst: list, n: int) -> tuple:\n",
    "    lst = list(set(lst))\n",
    "    result1 = []\n",
    "    result2 = []\n",
    "    for x in lst:\n",
    "        if x <= n:\n",
    "            result1.append(x)\n",
    "        else:\n",
    "            result2.append(x)\n",
    "    return tuple(result1 + result2)"
   ]
  },
  {
   "cell_type": "markdown",
   "metadata": {},
   "source": [
    "<h4>字符串匹配个数</h4>"
   ]
  },
  {
   "cell_type": "code",
   "execution_count": 24,
   "metadata": {
    "ExecuteTime": {
     "end_time": "2020-10-05T08:15:37.300604Z",
     "start_time": "2020-10-05T08:15:37.298502Z"
    }
   },
   "outputs": [],
   "source": [
    "def match_str(s1: str, s2: str) -> int:\n",
    "    \"\"\"\n",
    "    判断两个字符串匹配个数\n",
    "    \"\"\"\n",
    "    return sum([l == r for l, r in zip(s1, s2)])"
   ]
  },
  {
   "cell_type": "code",
   "execution_count": 25,
   "metadata": {
    "ExecuteTime": {
     "end_time": "2020-10-05T08:15:37.583599Z",
     "start_time": "2020-10-05T08:15:37.578588Z"
    }
   },
   "outputs": [
    {
     "data": {
      "text/plain": [
       "3"
      ]
     },
     "execution_count": 25,
     "metadata": {},
     "output_type": "execute_result"
    }
   ],
   "source": [
    "match_str(\"asdfg\", \"asdcv\")"
   ]
  },
  {
   "cell_type": "markdown",
   "metadata": {},
   "source": [
    "<h2>模块、包、库</h2>"
   ]
  },
  {
   "cell_type": "code",
   "execution_count": 28,
   "metadata": {
    "ExecuteTime": {
     "end_time": "2020-10-05T08:35:56.754895Z",
     "start_time": "2020-10-05T08:35:56.750895Z"
    }
   },
   "outputs": [
    {
     "name": "stdout",
     "output_type": "stream",
     "text": [
      "win32\n",
      "['C:\\\\Users\\\\DrZon\\\\PycharmProjects\\\\大数据培训第二期', 'c:\\\\users\\\\drzon\\\\appdata\\\\local\\\\programs\\\\python\\\\python37\\\\python37.zip', 'c:\\\\users\\\\drzon\\\\appdata\\\\local\\\\programs\\\\python\\\\python37\\\\DLLs', 'c:\\\\users\\\\drzon\\\\appdata\\\\local\\\\programs\\\\python\\\\python37\\\\lib', 'c:\\\\users\\\\drzon\\\\appdata\\\\local\\\\programs\\\\python\\\\python37', '', 'c:\\\\users\\\\drzon\\\\appdata\\\\local\\\\programs\\\\python\\\\python37\\\\lib\\\\site-packages', 'c:\\\\users\\\\drzon\\\\appdata\\\\local\\\\programs\\\\python\\\\python37\\\\lib\\\\site-packages\\\\win32', 'c:\\\\users\\\\drzon\\\\appdata\\\\local\\\\programs\\\\python\\\\python37\\\\lib\\\\site-packages\\\\win32\\\\lib', 'c:\\\\users\\\\drzon\\\\appdata\\\\local\\\\programs\\\\python\\\\python37\\\\lib\\\\site-packages\\\\Pythonwin', 'c:\\\\users\\\\drzon\\\\appdata\\\\local\\\\programs\\\\python\\\\python37\\\\lib\\\\site-packages\\\\IPython\\\\extensions', 'C:\\\\Users\\\\DrZon\\\\.ipython']\n",
      "['c:\\\\users\\\\drzon\\\\appdata\\\\local\\\\programs\\\\python\\\\python37\\\\lib\\\\site-packages\\\\ipykernel_launcher.py', '-f', 'C:\\\\Users\\\\DrZon\\\\AppData\\\\Roaming\\\\jupyter\\\\runtime\\\\kernel-0dd5b299-7082-4d8f-8e10-70fcd74ff4fc.json']\n"
     ]
    }
   ],
   "source": [
    "import sys\n",
    "print(sys.platform)\n",
    "print(sys.path)\n",
    "print(sys.argv)"
   ]
  },
  {
   "cell_type": "markdown",
   "metadata": {},
   "source": [
    "<h2>面向对象</h2>"
   ]
  },
  {
   "cell_type": "markdown",
   "metadata": {},
   "source": [
    "<h3>定义类</h3>"
   ]
  },
  {
   "cell_type": "code",
   "execution_count": 41,
   "metadata": {
    "ExecuteTime": {
     "end_time": "2020-10-05T08:57:07.111007Z",
     "start_time": "2020-10-05T08:57:07.106003Z"
    }
   },
   "outputs": [],
   "source": [
    "class Person:\n",
    "    money: int = None\n",
    "    def sayHi(self):\n",
    "        print(\"Hello\")"
   ]
  },
  {
   "cell_type": "code",
   "execution_count": 43,
   "metadata": {
    "ExecuteTime": {
     "end_time": "2020-10-05T08:57:20.788708Z",
     "start_time": "2020-10-05T08:57:20.785738Z"
    }
   },
   "outputs": [
    {
     "name": "stdout",
     "output_type": "stream",
     "text": [
      "Hello\n",
      "None\n"
     ]
    }
   ],
   "source": [
    "p = Person()\n",
    "p.sayHi()\n",
    "print(p.money)"
   ]
  },
  {
   "cell_type": "markdown",
   "metadata": {},
   "source": [
    "<h3>动态添加实例属性</h3>"
   ]
  },
  {
   "cell_type": "code",
   "execution_count": 44,
   "metadata": {
    "ExecuteTime": {
     "end_time": "2020-10-05T08:58:40.376646Z",
     "start_time": "2020-10-05T08:58:40.370678Z"
    }
   },
   "outputs": [
    {
     "name": "stdout",
     "output_type": "stream",
     "text": [
      "computer\n"
     ]
    }
   ],
   "source": [
    "p.major = \"computer\"\n",
    "print(p.major)"
   ]
  },
  {
   "cell_type": "markdown",
   "metadata": {},
   "source": [
    "<h3>成员属性与类属性</h3>"
   ]
  },
  {
   "cell_type": "markdown",
   "metadata": {},
   "source": [
    "<h4>类属性</h4>"
   ]
  },
  {
   "cell_type": "code",
   "execution_count": 50,
   "metadata": {
    "ExecuteTime": {
     "end_time": "2020-10-05T09:07:28.020219Z",
     "start_time": "2020-10-05T09:07:28.017212Z"
    }
   },
   "outputs": [],
   "source": [
    "class Person:\n",
    "    count: int = 0\n",
    "    def sayHi():\n",
    "        print(\"Hello\")\n",
    "    def __init__(self):\n",
    "        Person.count = Person.count + 1"
   ]
  },
  {
   "cell_type": "code",
   "execution_count": 51,
   "metadata": {
    "ExecuteTime": {
     "end_time": "2020-10-05T09:07:28.237759Z",
     "start_time": "2020-10-05T09:07:28.233761Z"
    }
   },
   "outputs": [
    {
     "name": "stdout",
     "output_type": "stream",
     "text": [
      "1\n",
      "1\n"
     ]
    }
   ],
   "source": [
    "p = Person()\n",
    "print(p.count)\n",
    "print(Person.count)"
   ]
  },
  {
   "cell_type": "markdown",
   "metadata": {},
   "source": [
    "<h4>成员属性</h4>"
   ]
  },
  {
   "cell_type": "code",
   "execution_count": 55,
   "metadata": {
    "ExecuteTime": {
     "end_time": "2020-10-05T09:09:12.451280Z",
     "start_time": "2020-10-05T09:09:12.448322Z"
    }
   },
   "outputs": [],
   "source": [
    "class Person:\n",
    "    money: int\n",
    "    def __init__(self, money):\n",
    "        self.money = money"
   ]
  },
  {
   "cell_type": "code",
   "execution_count": 56,
   "metadata": {
    "ExecuteTime": {
     "end_time": "2020-10-05T09:09:12.779891Z",
     "start_time": "2020-10-05T09:09:12.776923Z"
    }
   },
   "outputs": [
    {
     "data": {
      "text/plain": [
       "500"
      ]
     },
     "execution_count": 56,
     "metadata": {},
     "output_type": "execute_result"
    }
   ],
   "source": [
    "p = Person(500)\n",
    "p.money"
   ]
  },
  {
   "cell_type": "markdown",
   "metadata": {},
   "source": [
    "<h4>不同属性之间的相互影响</h4>"
   ]
  },
  {
   "cell_type": "code",
   "execution_count": 71,
   "metadata": {
    "ExecuteTime": {
     "end_time": "2020-10-05T13:19:24.919485Z",
     "start_time": "2020-10-05T13:19:24.916524Z"
    }
   },
   "outputs": [],
   "source": [
    "class Person:\n",
    "    money = 10000\n",
    "    def sayHi():\n",
    "        print(\"Hello\")"
   ]
  },
  {
   "cell_type": "code",
   "execution_count": 72,
   "metadata": {
    "ExecuteTime": {
     "end_time": "2020-10-05T13:19:25.172083Z",
     "start_time": "2020-10-05T13:19:25.166083Z"
    }
   },
   "outputs": [
    {
     "name": "stdout",
     "output_type": "stream",
     "text": [
      "10000\n",
      "9000\n"
     ]
    },
    {
     "name": "stderr",
     "output_type": "stream",
     "text": [
      "Exception ignored in: <function Person.__del__ at 0x000001F40EA3E7B8>\n",
      "Traceback (most recent call last):\n",
      "  File \"<ipython-input-68-fedefaedfc7b>\", line 24, in __del__\n",
      "AttributeError: type object 'Person' has no attribute '_Person__count'\n"
     ]
    }
   ],
   "source": [
    "p = Person()\n",
    "print(p.money)\n",
    "Person.money = 9000\n",
    "print(p.money)"
   ]
  },
  {
   "cell_type": "code",
   "execution_count": 73,
   "metadata": {
    "ExecuteTime": {
     "end_time": "2020-10-05T13:19:25.402259Z",
     "start_time": "2020-10-05T13:19:25.397291Z"
    }
   },
   "outputs": [
    {
     "name": "stdout",
     "output_type": "stream",
     "text": [
      "9000\n"
     ]
    }
   ],
   "source": [
    "p = Person()\n",
    "p.money = 5000\n",
    "print(Person.money)"
   ]
  },
  {
   "cell_type": "code",
   "execution_count": 74,
   "metadata": {
    "ExecuteTime": {
     "end_time": "2020-10-05T13:20:43.472683Z",
     "start_time": "2020-10-05T13:20:43.469712Z"
    }
   },
   "outputs": [],
   "source": [
    "class Person:\n",
    "    money: int\n",
    "    def __init__(self, money):\n",
    "        self.money = money\n",
    "        Person.money = money * 2"
   ]
  },
  {
   "cell_type": "code",
   "execution_count": 77,
   "metadata": {
    "ExecuteTime": {
     "end_time": "2020-10-05T13:21:35.678410Z",
     "start_time": "2020-10-05T13:21:35.674436Z"
    }
   },
   "outputs": [
    {
     "name": "stdout",
     "output_type": "stream",
     "text": [
      "10000\n",
      "20000\n"
     ]
    }
   ],
   "source": [
    "p = Person(10000)\n",
    "print(p.money)\n",
    "print(Person.money)"
   ]
  },
  {
   "cell_type": "markdown",
   "metadata": {},
   "source": [
    "<h3>私有成员和公有成员</h3>"
   ]
  },
  {
   "cell_type": "code",
   "execution_count": 64,
   "metadata": {
    "ExecuteTime": {
     "end_time": "2020-10-05T13:10:36.060168Z",
     "start_time": "2020-10-05T13:10:36.055200Z"
    }
   },
   "outputs": [],
   "source": [
    "class Person:\n",
    "    __name: str\n",
    "    __age: int\n",
    "    __addr: str\n",
    "    def getName(self) -> str:\n",
    "        return self.__name\n",
    "    def getAge(self) -> int:\n",
    "        return self.__age\n",
    "    def getAddr(self) -> str:\n",
    "        return self.__addr\n",
    "    def setName(self, name) -> None:\n",
    "        self.__name = name\n",
    "    def setAge(self, age) -> None:\n",
    "        self.__age = age\n",
    "    def setAddr(self, addr) -> None:\n",
    "        self.__addr = addr\n",
    "    def __init__(self, name=None, age=None, addr=None) -> None:\n",
    "        self.__name = name\n",
    "        self.__age = age\n",
    "        self.__addr = addr"
   ]
  },
  {
   "cell_type": "code",
   "execution_count": 61,
   "metadata": {
    "ExecuteTime": {
     "end_time": "2020-10-05T13:03:56.590550Z",
     "start_time": "2020-10-05T13:03:56.585585Z"
    }
   },
   "outputs": [
    {
     "name": "stdout",
     "output_type": "stream",
     "text": [
      "zxr\n"
     ]
    }
   ],
   "source": [
    "p = Person(\"zxr\", 18, \"aaa\")\n",
    "print(p.getName())"
   ]
  },
  {
   "cell_type": "markdown",
   "metadata": {},
   "source": [
    "<h3>构造函数</h3>"
   ]
  },
  {
   "cell_type": "code",
   "execution_count": 65,
   "metadata": {
    "ExecuteTime": {
     "end_time": "2020-10-05T13:10:38.410728Z",
     "start_time": "2020-10-05T13:10:38.406728Z"
    }
   },
   "outputs": [
    {
     "name": "stdout",
     "output_type": "stream",
     "text": [
      "None\n"
     ]
    }
   ],
   "source": [
    "p = Person()\n",
    "print(p.getName())"
   ]
  },
  {
   "cell_type": "markdown",
   "metadata": {},
   "source": [
    "<h3>成员方法、类方法、静态方法</h3>"
   ]
  },
  {
   "cell_type": "code",
   "execution_count": 79,
   "metadata": {
    "ExecuteTime": {
     "end_time": "2020-10-05T13:28:35.057815Z",
     "start_time": "2020-10-05T13:28:35.052609Z"
    }
   },
   "outputs": [],
   "source": [
    "class Person:\n",
    "    __count: int = 0\n",
    "    __name: str\n",
    "    __age: int\n",
    "    __addr: str\n",
    "    def getName(self) -> str:\n",
    "        return self.__name\n",
    "    def getAge(self) -> int:\n",
    "        return self.__age\n",
    "    def getAddr(self) -> str:\n",
    "        return self.__addr\n",
    "    def setName(self, name) -> None:\n",
    "        self.__name = name\n",
    "    def setAge(self, age) -> None:\n",
    "        self.__age = age\n",
    "    def setAddr(self, addr) -> None:\n",
    "        self.__addr = addr\n",
    "    def __init__(self, name=None, age=None, addr=None) -> None:\n",
    "        self.__name = name\n",
    "        self.__age = age\n",
    "        self.__addr = addr\n",
    "        Person.__count = Person.__count + 1\n",
    "    def __del__(self) -> None:\n",
    "        Person.__count = Person.__count - 1\n",
    "    @classmethod\n",
    "    def getCount(cls) -> int:\n",
    "        return cls.__count\n",
    "    @staticmethod\n",
    "    def get_count() -> int:\n",
    "        return Person.__count"
   ]
  },
  {
   "cell_type": "markdown",
   "metadata": {},
   "source": [
    "<h4>类方法与静态方法</h4>"
   ]
  },
  {
   "cell_type": "code",
   "execution_count": 69,
   "metadata": {
    "ExecuteTime": {
     "end_time": "2020-10-05T13:16:24.117965Z",
     "start_time": "2020-10-05T13:16:24.114966Z"
    }
   },
   "outputs": [
    {
     "name": "stdout",
     "output_type": "stream",
     "text": [
      "1\n",
      "1\n"
     ]
    }
   ],
   "source": [
    "p = Person()\n",
    "# 类方法\n",
    "print(Person.getCount())\n",
    "# 静态方法\n",
    "print(Person.get_count())"
   ]
  },
  {
   "cell_type": "markdown",
   "metadata": {},
   "source": [
    "<h4>实例方法</h4>"
   ]
  },
  {
   "cell_type": "code",
   "execution_count": 81,
   "metadata": {
    "ExecuteTime": {
     "end_time": "2020-10-05T13:29:35.799858Z",
     "start_time": "2020-10-05T13:29:35.795894Z"
    }
   },
   "outputs": [
    {
     "name": "stdout",
     "output_type": "stream",
     "text": [
      "gyt\n"
     ]
    }
   ],
   "source": [
    "# 通过对象调用\n",
    "p = Person()\n",
    "p.setName(\"gyt\")\n",
    "print(p._Person__name)"
   ]
  },
  {
   "cell_type": "code",
   "execution_count": 82,
   "metadata": {
    "ExecuteTime": {
     "end_time": "2020-10-05T13:30:31.784682Z",
     "start_time": "2020-10-05T13:30:31.779715Z"
    }
   },
   "outputs": [
    {
     "name": "stdout",
     "output_type": "stream",
     "text": [
      "gyt\n"
     ]
    }
   ],
   "source": [
    "# 通过类名调用\n",
    "p = Person()\n",
    "Person.setName(p, \"gyt\")\n",
    "print(p._Person__name)"
   ]
  },
  {
   "cell_type": "markdown",
   "metadata": {},
   "source": [
    "<h3>继承和多态</h3>"
   ]
  },
  {
   "cell_type": "code",
   "execution_count": 86,
   "metadata": {
    "ExecuteTime": {
     "end_time": "2020-10-05T13:55:54.611000Z",
     "start_time": "2020-10-05T13:55:54.606001Z"
    }
   },
   "outputs": [],
   "source": [
    "class Car:\n",
    "    _price: float\n",
    "    def __init__(self, price=None) -> None:\n",
    "        self._price = price\n",
    "    def set_price(self, price: float) -> None:\n",
    "        self._price = price\n",
    "    def get_price(self) -> float:\n",
    "        return self._price\n",
    "        \n",
    "class GasCar(Car):\n",
    "    _gas: int\n",
    "    def __init(self, price=None, gas=None) -> None:\n",
    "        super().__init__(price)\n",
    "        self._gas = gas\n",
    "    def set_gas(self, gas: int) -> None:\n",
    "        self._gas = gas\n",
    "    def get_gas(self) -> int:\n",
    "        return self._gas"
   ]
  },
  {
   "cell_type": "markdown",
   "metadata": {},
   "source": [
    "<h3>类定义中的特殊方法</h3>"
   ]
  },
  {
   "cell_type": "code",
   "execution_count": 91,
   "metadata": {
    "ExecuteTime": {
     "end_time": "2020-10-05T14:12:02.419798Z",
     "start_time": "2020-10-05T14:12:02.411796Z"
    }
   },
   "outputs": [],
   "source": [
    "class Person:\n",
    "    __count: int = 0\n",
    "    __name: str\n",
    "    __age: int\n",
    "    __addr: str\n",
    "    def getName(self) -> str:\n",
    "        return self.__name\n",
    "    def getAge(self) -> int:\n",
    "        return self.__age\n",
    "    def getAddr(self) -> str:\n",
    "        return self.__addr\n",
    "    def setName(self, name) -> None:\n",
    "        self.__name = name\n",
    "    def setAge(self, age) -> None:\n",
    "        self.__age = age\n",
    "    def setAddr(self, addr) -> None:\n",
    "        self.__addr = addr\n",
    "    def __init__(self, name=None, age=None, addr=None) -> None:\n",
    "        self.__name = name\n",
    "        self.__age = age\n",
    "        self.__addr = addr\n",
    "        Person.__count = Person.__count + 1\n",
    "    def __del__(self) -> None:\n",
    "        Person.__count = Person.__count - 1\n",
    "    @classmethod\n",
    "    def getCount(cls) -> int:\n",
    "        return cls.__count\n",
    "    @staticmethod\n",
    "    def get_count() -> int:\n",
    "        return Person.__count\n",
    "    def __lt__(self, other) -> bool:\n",
    "        return self.__age < other.__age\n",
    "    def __str__(self) -> str:\n",
    "        return \"姓名:%s 年龄:%s 地址:%s\" % (self.__name, self.__age, self.__addr)\n",
    "    __repr__ = __str__"
   ]
  },
  {
   "cell_type": "code",
   "execution_count": 92,
   "metadata": {
    "ExecuteTime": {
     "end_time": "2020-10-05T14:13:37.983282Z",
     "start_time": "2020-10-05T14:13:37.979318Z"
    }
   },
   "outputs": [],
   "source": [
    "p = Person()"
   ]
  },
  {
   "cell_type": "markdown",
   "metadata": {},
   "source": [
    "<h3>练习</h3>"
   ]
  },
  {
   "cell_type": "markdown",
   "metadata": {},
   "source": [
    "<h4>自定义一个list，实现累乘方法</h4>"
   ]
  },
  {
   "cell_type": "code",
   "execution_count": 106,
   "metadata": {
    "ExecuteTime": {
     "end_time": "2020-10-05T14:22:51.351682Z",
     "start_time": "2020-10-05T14:22:51.346714Z"
    }
   },
   "outputs": [],
   "source": [
    "class MyList(list):\n",
    "    lst: list\n",
    "    def __init__(self, lst: list = None) -> None:\n",
    "        self.lst = lst\n",
    "    def product(self):\n",
    "        if len(self.lst) == 1:\n",
    "            return self.lst[0]\n",
    "        else:\n",
    "            return self.lst[0] * MyList(self.lst[1:]).product()"
   ]
  },
  {
   "cell_type": "code",
   "execution_count": 107,
   "metadata": {
    "ExecuteTime": {
     "end_time": "2020-10-05T14:22:51.522386Z",
     "start_time": "2020-10-05T14:22:51.518386Z"
    }
   },
   "outputs": [
    {
     "name": "stdout",
     "output_type": "stream",
     "text": [
      "24\n"
     ]
    }
   ],
   "source": [
    "p = MyList([1, 2, 3, 4])\n",
    "print(p.product())"
   ]
  },
  {
   "cell_type": "markdown",
   "metadata": {},
   "source": [
    "<h2>文件操作</h2>"
   ]
  },
  {
   "cell_type": "markdown",
   "metadata": {},
   "source": [
    "<h3>获取当前工作目录</h3>"
   ]
  },
  {
   "cell_type": "code",
   "execution_count": 108,
   "metadata": {
    "ExecuteTime": {
     "end_time": "2020-10-05T15:00:37.786214Z",
     "start_time": "2020-10-05T15:00:37.783185Z"
    }
   },
   "outputs": [
    {
     "name": "stdout",
     "output_type": "stream",
     "text": [
      "C:\\Users\\DrZon\\PycharmProjects\\大数据培训第二期\n"
     ]
    }
   ],
   "source": [
    "import os\n",
    "print(os.getcwd())"
   ]
  },
  {
   "cell_type": "markdown",
   "metadata": {},
   "source": [
    "<h3>读写文件</h3>"
   ]
  },
  {
   "cell_type": "markdown",
   "metadata": {},
   "source": [
    "<h4>写入文件</h4>"
   ]
  },
  {
   "cell_type": "code",
   "execution_count": 109,
   "metadata": {
    "ExecuteTime": {
     "end_time": "2020-10-05T15:05:16.994747Z",
     "start_time": "2020-10-05T15:05:16.990719Z"
    }
   },
   "outputs": [],
   "source": [
    "with open(\"../data/mypython3.txt\", \"w+\") as f:\n",
    "    f.write(\"Hello Python\")"
   ]
  },
  {
   "cell_type": "markdown",
   "metadata": {},
   "source": [
    "<h4>读取文件</h4>"
   ]
  },
  {
   "cell_type": "markdown",
   "metadata": {},
   "source": [
    "<h5>读取全文</h5>"
   ]
  },
  {
   "cell_type": "code",
   "execution_count": 110,
   "metadata": {
    "ExecuteTime": {
     "end_time": "2020-10-05T15:06:30.676466Z",
     "start_time": "2020-10-05T15:06:30.672463Z"
    }
   },
   "outputs": [
    {
     "name": "stdout",
     "output_type": "stream",
     "text": [
      "Hello Python\n"
     ]
    }
   ],
   "source": [
    "with open(\"../data/mypython3.txt\", \"r\") as f:\n",
    "    print(f.read())"
   ]
  },
  {
   "cell_type": "markdown",
   "metadata": {},
   "source": [
    "<h5>按行读取</h5>"
   ]
  },
  {
   "cell_type": "code",
   "execution_count": 115,
   "metadata": {
    "ExecuteTime": {
     "end_time": "2020-10-05T15:22:39.304139Z",
     "start_time": "2020-10-05T15:22:39.295123Z"
    },
    "scrolled": true
   },
   "outputs": [
    {
     "name": "stdout",
     "output_type": "stream",
     "text": [
      "use demo_db1;\n",
      "\n",
      "create table t(quantity int, price int);\n",
      "\n",
      "insert into t values (3, 50), (2, 100);\n",
      "\n",
      "\n",
      "\n",
      "create view view_t as\n",
      "\n",
      "    select quantity, price, quantity * price from t;\n",
      "\n",
      "\n",
      "\n",
      "select * from view_t;\n",
      "\n",
      "\n",
      "\n",
      "update t set price = 150 where quantity = 3;\n",
      "\n",
      "\n",
      "\n",
      "-- 视图的列取别名-----------\n",
      "\n",
      "create view view2(qty, price, total)\n",
      "\n",
      "as select quantity, price, quantity * price from t;\n",
      "\n",
      "\n",
      "\n",
      "select * from view2;\n",
      "\n",
      "-- 多表创建视图------------\n",
      "\n",
      "create table student (id int, name varchar(50));\n",
      "\n",
      "insert into student values\n",
      "\n",
      "(1, 'pyz'), (2, 'gaiqu'), (3, 'zxr');\n",
      "\n",
      "create table student_info (id int, name varchar(30), grade varchar(40));\n",
      "\n",
      "insert into student_info values\n",
      "\n",
      "(1, 'tj', '1st'), (2, 'sz', '2nd'), (3, 'sh', '3rd');\n",
      "\n",
      "create view stu_glass(id, name)\n",
      "\n",
      "as\n",
      "\n",
      "    select student.id, student.name from student, student_info where student.id = student_info.id;\n",
      "\n",
      "insert into student_info values (4, 'asda', '4th');\n",
      "\n",
      "\n",
      "\n",
      "select * from student;\n",
      "\n",
      "select * from student_info;\n",
      "\n",
      "select * from stu_glass;\n",
      "\n",
      "\n",
      "\n",
      "-- 查看视图-----------------\n",
      "\n",
      "desc stu_glass;\n",
      "\n",
      "show create view stu_glass;\n",
      "\n",
      "show create view view_t;\n",
      "\n",
      "show table status like 'view_t';\n",
      "\n",
      "show table status like 't';\n",
      "\n",
      "select * from information_schema.VIEWS;\n",
      "\n",
      "\n",
      "\n",
      "-- 修改视图-----------------\n",
      "\n",
      "create or replace view view_t\n",
      "\n",
      "as select * from t;\n",
      "\n",
      "\n",
      "\n",
      "select * from t;\n",
      "\n",
      "\n",
      "\n",
      "alter view demo_db1.view_t as\n",
      "\n",
      "    select quantity from t;\n",
      "\n",
      "select * from demo_db1.view_t;\n",
      "\n"
     ]
    }
   ],
   "source": [
    "with open(\"../sql/view.sql\", \"r\", encoding=\"utf-8\") as f:\n",
    "    while True:\n",
    "        l = f.readline()\n",
    "        if not l:\n",
    "            break\n",
    "        print(l)"
   ]
  },
  {
   "cell_type": "markdown",
   "metadata": {},
   "source": [
    "<h5>读取行成为列表</h5>"
   ]
  },
  {
   "cell_type": "code",
   "execution_count": 132,
   "metadata": {
    "ExecuteTime": {
     "end_time": "2020-10-05T15:32:04.416561Z",
     "start_time": "2020-10-05T15:32:04.411592Z"
    }
   },
   "outputs": [
    {
     "name": "stdout",
     "output_type": "stream",
     "text": [
      "['use demo_db1;\\n', 'create table t(quantity int, price int);\\n', 'insert into t values (3, 50), (2, 100);\\n', '\\n', 'create view view_t as\\n', '    select quantity, price, quantity * price from t;\\n', '\\n', 'select * from view_t;\\n', '\\n', 'update t set price = 150 where quantity = 3;\\n', '\\n', '-- 视图的列取别名-----------\\n', 'create view view2(qty, price, total)\\n', 'as select quantity, price, quantity * price from t;\\n', '\\n', 'select * from view2;\\n', '-- 多表创建视图------------\\n', 'create table student (id int, name varchar(50));\\n', 'insert into student values\\n', \"(1, 'pyz'), (2, 'gaiqu'), (3, 'zxr');\\n\", 'create table student_info (id int, name varchar(30), grade varchar(40));\\n', 'insert into student_info values\\n', \"(1, 'tj', '1st'), (2, 'sz', '2nd'), (3, 'sh', '3rd');\\n\", 'create view stu_glass(id, name)\\n', 'as\\n', '    select student.id, student.name from student, student_info where student.id = student_info.id;\\n', \"insert into student_info values (4, 'asda', '4th');\\n\", '\\n', 'select * from student;\\n', 'select * from student_info;\\n', 'select * from stu_glass;\\n', '\\n', '-- 查看视图-----------------\\n', 'desc stu_glass;\\n', 'show create view stu_glass;\\n', 'show create view view_t;\\n', \"show table status like 'view_t';\\n\", \"show table status like 't';\\n\", 'select * from information_schema.VIEWS;\\n', '\\n', '-- 修改视图-----------------\\n', 'create or replace view view_t\\n', 'as select * from t;\\n', '\\n', 'select * from t;\\n', '\\n', 'alter view demo_db1.view_t as\\n', '    select quantity from t;\\n', 'select * from demo_db1.view_t;\\n']\n"
     ]
    }
   ],
   "source": [
    "with open(\"../sql/view.sql\", \"r\", encoding=\"utf-8\", newline=None) as f:\n",
    "    lst = f.readlines()\n",
    "print(lst)"
   ]
  },
  {
   "cell_type": "markdown",
   "metadata": {},
   "source": [
    "<h5>按字节读取</h5>"
   ]
  },
  {
   "cell_type": "code",
   "execution_count": 135,
   "metadata": {
    "ExecuteTime": {
     "end_time": "2020-10-05T15:38:46.567684Z",
     "start_time": "2020-10-05T15:38:46.563683Z"
    }
   },
   "outputs": [],
   "source": [
    "with open(\"../sql/view.sql\", \"rb\") as fin:\n",
    "    with open(\"../data/view.txt\", \"wb\") as fout:\n",
    "        while True:\n",
    "            tmp = fin.read(4)\n",
    "            if not tmp:\n",
    "                break\n",
    "            fout.write(tmp)"
   ]
  },
  {
   "cell_type": "markdown",
   "metadata": {},
   "source": [
    "<h4>文件指针</h4>"
   ]
  },
  {
   "cell_type": "code",
   "execution_count": 136,
   "metadata": {
    "ExecuteTime": {
     "end_time": "2020-10-05T15:41:56.159479Z",
     "start_time": "2020-10-05T15:41:56.151958Z"
    }
   },
   "outputs": [],
   "source": [
    "with open(\"../data/a.txt\", \"r+\") as f:\n",
    "    f.seek(13)\n",
    "    f.write(\"测试\")"
   ]
  },
  {
   "cell_type": "markdown",
   "metadata": {},
   "source": [
    "<h3>案例</h3>"
   ]
  },
  {
   "cell_type": "markdown",
   "metadata": {},
   "source": [
    "<h4>读取文件中以逗号分隔的字符后排序输出</h4>"
   ]
  },
  {
   "cell_type": "code",
   "execution_count": 137,
   "metadata": {
    "ExecuteTime": {
     "end_time": "2020-10-05T15:45:38.400027Z",
     "start_time": "2020-10-05T15:45:38.394025Z"
    }
   },
   "outputs": [],
   "source": [
    "with open(\"../data/number.txt\", \"r+\") as f:\n",
    "    my_str = f.read()\n",
    "    result = sorted(my_str.split(\",\"))\n",
    "    f.write(\"\\n\")\n",
    "    f.write(\",\".join(result))"
   ]
  },
  {
   "cell_type": "markdown",
   "metadata": {},
   "source": [
    "<h4>统计文件中最长的行</h4>"
   ]
  },
  {
   "cell_type": "code",
   "execution_count": 147,
   "metadata": {
    "ExecuteTime": {
     "end_time": "2020-10-05T16:02:25.938630Z",
     "start_time": "2020-10-05T16:02:25.934627Z"
    }
   },
   "outputs": [
    {
     "name": "stdout",
     "output_type": "stream",
     "text": [
      "99     select student.id, student.name from student, student_info where student.id = student_info.id;\n",
      "\n"
     ]
    }
   ],
   "source": [
    "with open(\"../sql/view.sql\", \"r\", encoding=\"utf-8\") as f:\n",
    "    length = 0\n",
    "    content = \"\"\n",
    "    for line in f:\n",
    "        if len(line) > length:\n",
    "            length = len(line)\n",
    "            content = line\n",
    "    print(length, content)"
   ]
  },
  {
   "cell_type": "code",
   "execution_count": null,
   "metadata": {},
   "outputs": [],
   "source": []
  }
 ],
 "metadata": {
  "gist": {
   "data": {
    "description": "PycharmProjects/大数据培训第二期/Untitled.ipynb",
    "public": false
   },
   "id": ""
  },
  "kernelspec": {
   "display_name": "Python 3",
   "language": "python",
   "name": "python3"
  },
  "language_info": {
   "codemirror_mode": {
    "name": "ipython",
    "version": 3
   },
   "file_extension": ".py",
   "mimetype": "text/x-python",
   "name": "python",
   "nbconvert_exporter": "python",
   "pygments_lexer": "ipython3",
   "version": "3.7.3"
  },
  "toc": {
   "base_numbering": 1,
   "nav_menu": {},
   "number_sections": true,
   "sideBar": true,
   "skip_h1_title": false,
   "title_cell": "Table of Contents",
   "title_sidebar": "Contents",
   "toc_cell": false,
   "toc_position": {
    "height": "calc(100% - 180px)",
    "left": "10px",
    "top": "150px",
    "width": "194.038px"
   },
   "toc_section_display": true,
   "toc_window_display": true
  },
  "varInspector": {
   "cols": {
    "lenName": 16,
    "lenType": 16,
    "lenVar": 40
   },
   "kernels_config": {
    "python": {
     "delete_cmd_postfix": "",
     "delete_cmd_prefix": "del ",
     "library": "var_list.py",
     "varRefreshCmd": "print(var_dic_list())"
    },
    "r": {
     "delete_cmd_postfix": ") ",
     "delete_cmd_prefix": "rm(",
     "library": "var_list.r",
     "varRefreshCmd": "cat(var_dic_list()) "
    }
   },
   "types_to_exclude": [
    "module",
    "function",
    "builtin_function_or_method",
    "instance",
    "_Feature"
   ],
   "window_display": true
  }
 },
 "nbformat": 4,
 "nbformat_minor": 4
}
