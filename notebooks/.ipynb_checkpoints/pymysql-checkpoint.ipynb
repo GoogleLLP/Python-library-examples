{
 "cells": [
  {
   "cell_type": "markdown",
   "metadata": {},
   "source": [
    "<h3>导入包</h3>"
   ]
  },
  {
   "cell_type": "code",
   "execution_count": 1,
   "metadata": {
    "ExecuteTime": {
     "end_time": "2020-10-07T04:04:34.511947Z",
     "start_time": "2020-10-07T04:04:34.481829Z"
    }
   },
   "outputs": [],
   "source": [
    "import pymysql as console\n",
    "from pymysql.cursors import Cursor\n",
    "from pymysql.connections import Connection"
   ]
  },
  {
   "cell_type": "markdown",
   "metadata": {},
   "source": [
    "<h3>创建数据库</h3>"
   ]
  },
  {
   "cell_type": "code",
   "execution_count": 2,
   "metadata": {
    "ExecuteTime": {
     "end_time": "2020-10-07T04:04:36.735300Z",
     "start_time": "2020-10-07T04:04:35.687622Z"
    }
   },
   "outputs": [
    {
     "name": "stdout",
     "output_type": "stream",
     "text": [
      "数据库版本:5.5.27\n"
     ]
    }
   ],
   "source": [
    "# 连接数据库\n",
    "conn = console.connect(\"localhost\", \"root\", \"root\", \"demo_db1\")\n",
    "# 开启自动提交\n",
    "conn.autocommit(True)\n",
    "# 获取操作游标\n",
    "cursor = conn.cursor()\n",
    "# 使用execute执行SQL命令\n",
    "cursor.execute(\"select version()\")\n",
    "# 使用fetch获取数据\n",
    "data = cursor.fetchone()\n",
    "print(\"数据库版本:%s\" % data)\n",
    "# 使用execute执行SQL命令\n",
    "cursor.execute(\"create table if not exists pytable (id int, name varchar(50))\")\n",
    "# 关闭数据库连接\n",
    "conn.close()"
   ]
  },
  {
   "cell_type": "markdown",
   "metadata": {},
   "source": [
    "<h3>插入数据</h3>"
   ]
  },
  {
   "cell_type": "code",
   "execution_count": 3,
   "metadata": {
    "ExecuteTime": {
     "end_time": "2020-10-07T04:04:52.788774Z",
     "start_time": "2020-10-07T04:04:52.783775Z"
    }
   },
   "outputs": [],
   "source": [
    "def add_data(cs: Cursor) -> tuple:\n",
    "    \"\"\"\n",
    "    插入数据\\n\n",
    "    :param cs: 数据库\n",
    "    :return: 返回值\n",
    "    \"\"\"\n",
    "    cs.execute(\"insert into pytable values(1, 'python')\")\n",
    "    return cs.fetchall()"
   ]
  },
  {
   "cell_type": "code",
   "execution_count": 4,
   "metadata": {
    "ExecuteTime": {
     "end_time": "2020-10-07T04:05:07.064377Z",
     "start_time": "2020-10-07T04:05:05.984313Z"
    }
   },
   "outputs": [
    {
     "name": "stdout",
     "output_type": "stream",
     "text": [
      "()\n"
     ]
    }
   ],
   "source": [
    "# 连接数据库\n",
    "conn = console.connect(\"localhost\", \"root\", \"root\", \"demo_db1\")\n",
    "# 开启自动提交\n",
    "conn.autocommit(True)\n",
    "# 获取操作游标\n",
    "cursor = conn.cursor()\n",
    "# 插入数据\n",
    "data = add_data(cursor)\n",
    "print(data)\n",
    "# 关闭数据库连接\n",
    "conn.close()"
   ]
  },
  {
   "cell_type": "markdown",
   "metadata": {},
   "source": [
    "<h3>查询数据</h3>"
   ]
  },
  {
   "cell_type": "code",
   "execution_count": 5,
   "metadata": {
    "ExecuteTime": {
     "end_time": "2020-10-07T04:05:13.674279Z",
     "start_time": "2020-10-07T04:05:13.670304Z"
    }
   },
   "outputs": [],
   "source": [
    "def query(cs: Cursor) -> tuple:\n",
    "    \"\"\"\n",
    "    查询数据\\n\n",
    "    :param cs: 游标\n",
    "    :return: 返回值\n",
    "    \"\"\"\n",
    "    cs.execute(\"select * from pytable\")\n",
    "    return cs.fetchall()"
   ]
  },
  {
   "cell_type": "code",
   "execution_count": 6,
   "metadata": {
    "ExecuteTime": {
     "end_time": "2020-10-07T04:05:27.093764Z",
     "start_time": "2020-10-07T04:05:26.055972Z"
    }
   },
   "outputs": [
    {
     "name": "stdout",
     "output_type": "stream",
     "text": [
      "((1, 'python'),)\n"
     ]
    }
   ],
   "source": [
    "# 连接数据库\n",
    "conn = console.connect(\"localhost\", \"root\", \"root\", \"demo_db1\")\n",
    "# 开启自动提交\n",
    "conn.autocommit(True)\n",
    "# 获取操作游标\n",
    "cursor = conn.cursor()\n",
    "# 查询数据\n",
    "data = query(cursor)\n",
    "print(data)\n",
    "# 关闭数据库连接\n",
    "conn.close()"
   ]
  },
  {
   "cell_type": "markdown",
   "metadata": {},
   "source": [
    "<h3>更新数据库</h3>"
   ]
  },
  {
   "cell_type": "code",
   "execution_count": 7,
   "metadata": {
    "ExecuteTime": {
     "end_time": "2020-10-07T04:05:30.883872Z",
     "start_time": "2020-10-07T04:05:30.878874Z"
    }
   },
   "outputs": [],
   "source": [
    "def update(cs: Cursor) -> tuple:\n",
    "    \"\"\"\n",
    "    更新数据库\\n\n",
    "    :param cs: 游标\n",
    "    :return: 返回值\n",
    "    \"\"\"\n",
    "    cs.execute(\"update pytable set name = 'C++' where id = 1\")\n",
    "    return cs.fetchall()"
   ]
  },
  {
   "cell_type": "code",
   "execution_count": 8,
   "metadata": {
    "ExecuteTime": {
     "end_time": "2020-10-07T04:05:47.684823Z",
     "start_time": "2020-10-07T04:05:46.648638Z"
    }
   },
   "outputs": [
    {
     "name": "stdout",
     "output_type": "stream",
     "text": [
      "()\n"
     ]
    }
   ],
   "source": [
    "# 连接数据库\n",
    "conn = console.connect(\"localhost\", \"root\", \"root\", \"demo_db1\")\n",
    "# 开启自动提交\n",
    "conn.autocommit(True)\n",
    "# 获取操作游标\n",
    "cursor = conn.cursor()\n",
    "# 更新数据\n",
    "data = update(cursor)\n",
    "print(data)\n",
    "# 关闭数据库连接\n",
    "conn.close()"
   ]
  },
  {
   "cell_type": "markdown",
   "metadata": {},
   "source": [
    "<h3>删除数据</h3>"
   ]
  },
  {
   "cell_type": "code",
   "execution_count": 9,
   "metadata": {
    "ExecuteTime": {
     "end_time": "2020-10-07T04:05:49.852710Z",
     "start_time": "2020-10-07T04:05:49.847684Z"
    }
   },
   "outputs": [],
   "source": [
    "def delete(cs: Cursor) -> tuple:\n",
    "    \"\"\"\n",
    "    删除信息\\n\n",
    "    :param cs: 游标\n",
    "    :return: 返回值\n",
    "    \"\"\"\n",
    "    cs.execute(\"delete from pytable where id = 1\")\n",
    "    return cs.fetchall()"
   ]
  },
  {
   "cell_type": "code",
   "execution_count": 10,
   "metadata": {
    "ExecuteTime": {
     "end_time": "2020-10-07T04:06:28.430329Z",
     "start_time": "2020-10-07T04:06:27.400287Z"
    }
   },
   "outputs": [
    {
     "name": "stdout",
     "output_type": "stream",
     "text": [
      "()\n"
     ]
    }
   ],
   "source": [
    "# 连接数据库\n",
    "conn = console.connect(\"localhost\", \"root\", \"root\", \"demo_db1\")\n",
    "# 开启自动提交\n",
    "conn.autocommit(True)\n",
    "# 获取操作游标\n",
    "cursor = conn.cursor()\n",
    "# 删除数据\n",
    "data = delete(cursor)\n",
    "print(data)\n",
    "# 关闭数据库连接\n",
    "conn.close()"
   ]
  },
  {
   "cell_type": "code",
   "execution_count": null,
   "metadata": {},
   "outputs": [],
   "source": []
  }
 ],
 "metadata": {
  "kernelspec": {
   "display_name": "Python 3",
   "language": "python",
   "name": "python3"
  },
  "language_info": {
   "codemirror_mode": {
    "name": "ipython",
    "version": 3
   },
   "file_extension": ".py",
   "mimetype": "text/x-python",
   "name": "python",
   "nbconvert_exporter": "python",
   "pygments_lexer": "ipython3",
   "version": "3.7.3"
  },
  "toc": {
   "base_numbering": 1,
   "nav_menu": {},
   "number_sections": true,
   "sideBar": true,
   "skip_h1_title": false,
   "title_cell": "Table of Contents",
   "title_sidebar": "Contents",
   "toc_cell": false,
   "toc_position": {
    "height": "calc(100% - 180px)",
    "left": "10px",
    "top": "150px",
    "width": "191.825px"
   },
   "toc_section_display": true,
   "toc_window_display": true
  },
  "varInspector": {
   "cols": {
    "lenName": 16,
    "lenType": 16,
    "lenVar": 40
   },
   "kernels_config": {
    "python": {
     "delete_cmd_postfix": "",
     "delete_cmd_prefix": "del ",
     "library": "var_list.py",
     "varRefreshCmd": "print(var_dic_list())"
    },
    "r": {
     "delete_cmd_postfix": ") ",
     "delete_cmd_prefix": "rm(",
     "library": "var_list.r",
     "varRefreshCmd": "cat(var_dic_list()) "
    }
   },
   "types_to_exclude": [
    "module",
    "function",
    "builtin_function_or_method",
    "instance",
    "_Feature"
   ],
   "window_display": true
  }
 },
 "nbformat": 4,
 "nbformat_minor": 4
}
